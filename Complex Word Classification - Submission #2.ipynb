{
  "cells":[
    {
      "cell_type":"markdown",
      "source":[
        "# Proiect Inteligență Artificială - Clasificatorul SVM\n",
        "## Tiberiu Maxim, grupa 351\n",
        "### SUBMISIA 2 - (Public: 0.82185, Private: 0.82808)"
      ],
      "attachments":{
        
      },
      "metadata":{
        "datalore":{
          "sheet_delimiter":false
        }
      }
    },
    {
      "cell_type":"markdown",
      "source":[
        "### PIP INSTALL"
      ],
      "attachments":{
        
      },
      "metadata":{
        "datalore":{
          "sheet_delimiter":false
        }
      }
    },
    {
      "cell_type":"code",
      "source":[
        "# ! pip install ...\n",
        "\n",
        "! pip install pyphen\n",
        "! pip install nltk\n",
        "! pip install openpyxl"
      ],
      "execution_count":1,
      "outputs":[
        {
          "name":"stdout",
          "text":[
            "Collecting pyphen\r\n",
            "  Downloading pyphen-0.11.0-py3-none-any.whl (2.0 MB)\r\n",
            "\u001b[?25l\r\r     |▏                               | 10 kB 23.7 MB\/s eta 0:00:01\r     |▍                               | 20 kB 28.5 MB\/s eta 0:00:01\r     |▌                               | 30 kB 32.7 MB\/s eta 0:00:01\r     |▊                               | 40 kB 28.9 MB\/s eta 0:00:01\r     |▉                               | 51 kB 21.1 MB\/s eta 0:00:01\r     |█                               | 61 kB 17.4 MB\/s eta 0:00:01\r     |█▏                              | 71 kB 17.5 MB\/s eta 0:00:01\r     |█▍                              | 81 kB 19.2 MB\/s eta 0:00:01\r     |█▌                              | 92 kB 20.8 MB\/s eta 0:00:01\r     |█▊                              | 102 kB 21.2 MB\/s eta 0:00:01\r     |█▉                              | 112 kB 21.2 MB\/s eta 0:00:01\r     |██                              | 122 kB 21.2 MB\/s eta 0:00:01\r     |██▏                             | 133 kB 21.2 MB\/s eta 0:00:01\r     |██▍                             | 143 kB 21.2 MB\/s eta 0:00:01\r     |██▌                             | 153 kB 21.2 MB\/s eta 0:00:01\r     |██▊                             | 163 kB 21.2 MB\/s eta 0:00:01\r     |██▉                             | 174 kB 21.2 MB\/s eta 0:00:01\r     |███                             | 184 kB 21.2 MB\/s eta 0:00:01\r     |███▏                            | 194 kB 21.2 MB\/s eta 0:00:01\r     |███▍                            | 204 kB 21.2 MB\/s eta 0:00:01\r     |███▌                            | 215 kB 21.2 MB\/s eta 0:00:01\r     |███▊                            | 225 kB 21.2 MB\/s eta 0:00:01\r     |███▉                            | 235 kB 21.2 MB\/s eta 0:00:01\r     |████                            | 245 kB 21.2 MB\/s eta 0:00:01\r     |████▏                           | 256 kB 21.2 MB\/s eta 0:00:01\r     |████▍                           | 266 kB 21.2 MB\/s eta 0:00:01\r     |████▌                           | 276 kB 21.2 MB\/s eta 0:00:01\r     |████▊                           | 286 kB 21.2 MB\/s eta 0:00:01\r     |████▉                           | 296 kB 21.2 MB\/s eta 0:00:01\r     |█████                           | 307 kB 21.2 MB\/s eta 0:00:01\r     |█████▏                          | 317 kB 21.2 MB\/s eta 0:00:01\r     |█████▍                          | 327 kB 21.2 MB\/s eta 0:00:01\r     |█████▌                          | 337 kB 21.2 MB\/s eta 0:00:01\r     |█████▊                          | 348 kB 21.2 MB\/s eta 0:00:01\r     |█████▉                          | 358 kB 21.2 MB\/s eta 0:00:01\r     |██████                          | 368 kB 21.2 MB\/s eta 0:00:01\r     |██████▏                         | 378 kB 21.2 MB\/s eta 0:00:01\r     |██████▍                         | 389 kB 21.2 MB\/s eta 0:00:01\r     |██████▌                         | 399 kB 21.2 MB\/s eta 0:00:01\r     |██████▊                         | 409 kB 21.2 MB\/s eta 0:00:01\r     |██████▉                         | 419 kB 21.2 MB\/s eta 0:00:01\r     |███████                         | 430 kB 21.2 MB\/s eta 0:00:01\r     |███████▏                        | 440 kB 21.2 MB\/s eta 0:00:01\r     |███████▍                        | 450 kB 21.2 MB\/s eta 0:00:01\r     |███████▌                        | 460 kB 21.2 MB\/s eta 0:00:01\r     |███████▊                        | 471 kB 21.2 MB\/s eta 0:00:01\r     |███████▉                        | 481 kB 21.2 MB\/s eta 0:00:01\r     |████████                        | 491 kB 21.2 MB\/s eta 0:00:01\r     |████████▎                       | 501 kB 21.2 MB\/s eta 0:00:01\r     |████████▍                       | 512 kB 21.2 MB\/s eta 0:00:01\r     |████████▋                       | 522 kB 21.2 MB\/s eta 0:00:01\r     |████████▊                       | 532 kB 21.2 MB\/s eta 0:00:01\r     |█████████                       | 542 kB 21.2 MB\/s eta 0:00:01\r     |█████████                       | 552 kB 21.2 MB\/s eta 0:00:01\r     |█████████▎                      | 563 kB 21.2 MB\/s eta 0:00:01\r     |█████████▍                      | 573 kB 21.2 MB\/s eta 0:00:01\r     |█████████▋                      | 583 kB 21.2 MB\/s eta 0:00:01\r     |█████████▊                      | 593 kB 21.2 MB\/s eta 0:00:01\r     |██████████                      | 604 kB 21.2 MB\/s eta 0:00:01\r     |██████████                      | 614 kB 21.2 MB\/s eta 0:00:01\r     |██████████▎                     | 624 kB 21.2 MB\/s eta 0:00:01\r     |██████████▍                     | 634 kB 21.2 MB\/s eta 0:00:01\r     |██████████▋                     | 645 kB 21.2 MB\/s eta 0:00:01\r     |██████████▊                     | 655 kB 21.2 MB\/s eta 0:00:01\r     |███████████                     | 665 kB 21.2 MB\/s eta 0:00:01\r     |███████████                     | 675 kB 21.2 MB\/s eta 0:00:01\r     |███████████▎                    | 686 kB 21.2 MB\/s eta 0:00:01\r     |███████████▍                    | 696 kB 21.2 MB\/s eta 0:00:01\r     |███████████▋                    | 706 kB 21.2 MB\/s eta 0:00:01\r     |███████████▊                    | 716 kB 21.2 MB\/s eta 0:00:01\r     |████████████                    | 727 kB 21.2 MB\/s eta 0:00:01\r     |████████████                    | 737 kB 21.2 MB\/s eta 0:00:01\r     |████████████▎                   | 747 kB 21.2 MB\/s eta 0:00:01\r     |████████████▍                   | 757 kB 21.2 MB\/s eta 0:00:01\r     |████████████▋                   | 768 kB 21.2 MB\/s eta 0:00:01\r     |████████████▊                   | 778 kB 21.2 MB\/s eta 0:00:01\r     |█████████████                   | 788 kB 21.2 MB\/s eta 0:00:01\r     |█████████████                   | 798 kB 21.2 MB\/s eta 0:00:01\r     |█████████████▎                  | 808 kB 21.2 MB\/s eta 0:00:01\r     |█████████████▍                  | 819 kB 21.2 MB\/s eta 0:00:01\r     |█████████████▋                  | 829 kB 21.2 MB\/s eta 0:00:01\r     |█████████████▊                  | 839 kB 21.2 MB\/s eta 0:00:01\r     |██████████████                  | 849 kB 21.2 MB\/s eta 0:00:01\r     |██████████████                  | 860 kB 21.2 MB\/s eta 0:00:01\r     |██████████████▎                 | 870 kB 21.2 MB\/s eta 0:00:01\r     |██████████████▍                 | 880 kB 21.2 MB\/s eta 0:00:01\r     |██████████████▋                 | 890 kB 21.2 MB\/s eta 0:00:01\r     |██████████████▊                 | 901 kB 21.2 MB\/s eta 0:00:01\r     |███████████████                 | 911 kB 21.2 MB\/s eta 0:00:01\r     |███████████████                 | 921 kB 21.2 MB\/s eta 0:00:01\r     |███████████████▎                | 931 kB 21.2 MB\/s eta 0:00:01\r     |███████████████▍                | 942 kB 21.2 MB\/s eta 0:00:01\r     |███████████████▋                | 952 kB 21.2 MB\/s eta 0:00:01\r     |███████████████▊                | 962 kB 21.2 MB\/s eta 0:00:01\r     |████████████████                | 972 kB 21.2 MB\/s eta 0:00:01\r     |████████████████                | 983 kB 21.2 MB\/s eta 0:00:01\r     |████████████████▎               | 993 kB 21.2 MB\/s eta 0:00:01\r     |████████████████▌               | 1.0 MB 21.2 MB\/s eta 0:00:01\r     |████████████████▋               | 1.0 MB 21.2 MB\/s eta 0:00:01\r     |████████████████▉               | 1.0 MB 21.2 MB\/s eta 0:00:01\r     |█████████████████               | 1.0 MB 21.2 MB\/s eta 0:00:01\r     |█████████████████▏              | 1.0 MB 21.2 MB\/s eta 0:00:01\r     |█████████████████▎              | 1.1 MB 21.2 MB\/s eta 0:00:01\r     |█████████████████▌              | 1.1 MB 21.2 MB\/s eta 0:00:01\r     |█████████████████▋              | 1.1 MB 21.2 MB\/s eta 0:00:01\r     |█████████████████▉              | 1.1 MB 21.2 MB\/s eta 0:00:01\r     |██████████████████              | 1.1 MB 21.2 MB\/s eta 0:00:01\r     |██████████████████▏             | 1.1 MB 21.2 MB\/s eta 0:00:01\r     |██████████████████▎             | 1.1 MB 21.2 MB\/s eta 0:00:01\r     |██████████████████▌             | 1.1 MB 21.2 MB\/s eta 0:00:01\r     |██████████████████▋             | 1.1 MB 21.2 MB\/s eta 0:00:01\r     |██████████████████▉             | 1.1 MB 21.2 MB\/s eta 0:00:01\r     |███████████████████             | 1.2 MB 21.2 MB\/s eta 0:00:01\r     |███████████████████▏            | 1.2 MB 21.2 MB\/s eta 0:00:01\r     |███████████████████▎            | 1.2 MB 21.2 MB\/s eta 0:00:01\r     |███████████████████▌            | 1.2 MB 21.2 MB\/s eta 0:00:01\r     |███████████████████▋            | 1.2 MB 21.2 MB\/s eta 0:00:01\r     |███████████████████▉            | 1.2 MB 21.2 MB\/s eta 0:00:01\r     |████████████████████            | 1.2 MB 21.2 MB\/s eta 0:00:01\r     |████████████████████▏           | 1.2 MB 21.2 MB\/s eta 0:00:01\r     |████████████████████▎           | 1.2 MB 21.2 MB\/s eta 0:00:01\r     |████████████████████▌           | 1.2 MB 21.2 MB\/s eta 0:00:01\r     |████████████████████▋           | 1.3 MB 21.2 MB\/s eta 0:00:01\r     |████████████████████▉           | 1.3 MB 21.2 MB\/s eta 0:00:01\r     |█████████████████████           | 1.3 MB 21.2 MB\/s eta 0:00:01\r     |█████████████████████▏          | 1.3 MB 21.2 MB\/s eta 0:00:01\r     |█████████████████████▎          | 1.3 MB 21.2 MB\/s eta 0:00:01\r     |█████████████████████▌          | 1.3 MB 21.2 MB\/s eta 0:00:01\r     |█████████████████████▋          | 1.3 MB 21.2 MB\/s eta 0:00:01\r     |█████████████████████▉          | 1.3 MB 21.2 MB\/s eta 0:00:01\r     |██████████████████████          | 1.3 MB 21.2 MB\/s eta 0:00:01\r     |██████████████████████▏         | 1.4 MB 21.2 MB\/s eta 0:00:01\r     |██████████████████████▎         | 1.4 MB 21.2 MB\/s eta 0:00:01\r     |██████████████████████▌         | 1.4 MB 21.2 MB\/s eta 0:00:01\r     |██████████████████████▋         | 1.4 MB 21.2 MB\/s eta 0:00:01\r     |██████████████████████▉         | 1.4 MB 21.2 MB\/s eta 0:00:01\r     |███████████████████████         | 1.4 MB 21.2 MB\/s eta 0:00:01\r     |███████████████████████▏        | 1.4 MB 21.2 MB\/s eta 0:00:01\r     |███████████████████████▎        | 1.4 MB 21.2 MB\/s eta 0:00:01\r     |███████████████████████▌        | 1.4 MB 21.2 MB\/s eta 0:00:01\r     |███████████████████████▋        | 1.4 MB 21.2 MB\/s eta 0:00:01\r     |███████████████████████▉        | 1.5 MB 21.2 MB\/s eta 0:00:01\r     |████████████████████████        | 1.5 MB 21.2 MB\/s eta 0:00:01\r     |████████████████████████▏       | 1.5 MB 21.2 MB\/s eta 0:00:01\r     |████████████████████████▎       | 1.5 MB 21.2 MB\/s eta 0:00:01\r     |████████████████████████▌       | 1.5 MB 21.2 MB\/s eta 0:00:01\r     |████████████████████████▊       | 1.5 MB 21.2 MB\/s eta 0:00:01\r     |████████████████████████▉       | 1.5 MB 21.2 MB\/s eta 0:00:01\r     |█████████████████████████       | 1.5 MB 21.2 MB\/s eta 0:00:01\r     |█████████████████████████▏      | 1.5 MB 21.2 MB\/s eta 0:00:01\r     |█████████████████████████▍      | 1.5 MB 21.2 MB\/s eta 0:00:01\r     |█████████████████████████▌      | 1.6 MB 21.2 MB\/s eta 0:00:01\r     |█████████████████████████▊      | 1.6 MB 21.2 MB\/s eta 0:00:01\r     |█████████████████████████▉      | 1.6 MB 21.2 MB\/s eta 0:00:01\r     |██████████████████████████      | 1.6 MB 21.2 MB\/s eta 0:00:01\r     |██████████████████████████▏     | 1.6 MB 21.2 MB\/s eta 0:00:01\r     |██████████████████████████▍     | 1.6 MB 21.2 MB\/s eta 0:00:01\r     |██████████████████████████▌     | 1.6 MB 21.2 MB\/s eta 0:00:01\r     |██████████████████████████▊     | 1.6 MB 21.2 MB\/s eta 0:00:01\r     |██████████████████████████▉     | 1.6 MB 21.2 MB\/s eta 0:00:01\r     |███████████████████████████     | 1.6 MB 21.2 MB\/s eta 0:00:01\r     |███████████████████████████▏    | 1.7 MB 21.2 MB\/s eta 0:00:01\r     |███████████████████████████▍    | 1.7 MB 21.2 MB\/s eta 0:00:01\r     |███████████████████████████▌    | 1.7 MB 21.2 MB\/s eta 0:00:01\r     |███████████████████████████▊    | 1.7 MB 21.2 MB\/s eta 0:00:01\r     |███████████████████████████▉    | 1.7 MB 21.2 MB\/s eta 0:00:01\r     |████████████████████████████    | 1.7 MB 21.2 MB\/s eta 0:00:01\r     |████████████████████████████▏   | 1.7 MB 21.2 MB\/s eta 0:00:01\r     |████████████████████████████▍   | 1.7 MB 21.2 MB\/s eta 0:00:01\r     |████████████████████████████▌   | 1.7 MB 21.2 MB\/s eta 0:00:01\r     |████████████████████████████▊   | 1.8 MB 21.2 MB\/s eta 0:00:01\r     |████████████████████████████▉   | 1.8 MB 21.2 MB\/s eta 0:00:01\r     |█████████████████████████████   | 1.8 MB 21.2 MB\/s eta 0:00:01\r     |█████████████████████████████▏  | 1.8 MB 21.2 MB\/s eta 0:00:01\r     |█████████████████████████████▍  | 1.8 MB 21.2 MB\/s eta 0:00:01\r     |█████████████████████████████▌  | 1.8 MB 21.2 MB\/s eta 0:00:01\r     |█████████████████████████████▊  | 1.8 MB 21.2 MB\/s eta 0:00:01\r     |█████████████████████████████▉  | 1.8 MB 21.2 MB\/s eta 0:00:01\r     |██████████████████████████████  | 1.8 MB 21.2 MB\/s eta 0:00:01\r     |██████████████████████████████▏ | 1.8 MB 21.2 MB\/s eta 0:00:01\r     |██████████████████████████████▍ | 1.9 MB 21.2 MB\/s eta 0:00:01\r     |██████████████████████████████▌ | 1.9 MB 21.2 MB\/s eta 0:00:01\r     |██████████████████████████████▊ | 1.9 MB 21.2 MB\/s eta 0:00:01\r     |██████████████████████████████▉ | 1.9 MB 21.2 MB\/s eta 0:00:01\r     |███████████████████████████████ | 1.9 MB 21.2 MB\/s eta 0:00:01\r     |███████████████████████████████▏| 1.9 MB 21.2 MB\/s eta 0:00:01\r     |███████████████████████████████▍| 1.9 MB 21.2 MB\/s eta 0:00:01\r     |███████████████████████████████▌| 1.9 MB 21.2 MB\/s eta 0:00:01\r     |███████████████████████████████▊| 1.9 MB 21.2 MB\/s eta 0:00:01\r     |███████████████████████████████▉| 1.9 MB 21.2 MB\/s eta 0:00:01\r     |████████████████████████████████| 2.0 MB 21.2 MB\/s            \r\n",
            "\u001b[?25hInstalling collected packages: pyphen\r\n",
            "Successfully installed pyphen-0.11.0\r\n",
            "Collecting nltk\r\n",
            "  Downloading nltk-3.6.5-py3-none-any.whl (1.5 MB)\r\n",
            "\u001b[?25l\r\r     |▎                               | 10 kB 19.0 MB\/s eta 0:00:01\r     |▌                               | 20 kB 25.0 MB\/s eta 0:00:01\r     |▊                               | 30 kB 27.8 MB\/s eta 0:00:01\r     |█                               | 40 kB 29.5 MB\/s eta 0:00:01\r     |█▏                              | 51 kB 31.8 MB\/s eta 0:00:01\r     |█▍                              | 61 kB 27.1 MB\/s eta 0:00:01\r     |█▋                              | 71 kB 26.9 MB\/s eta 0:00:01\r     |█▉                              | 81 kB 29.2 MB\/s eta 0:00:01\r     |██                              | 92 kB 25.5 MB\/s eta 0:00:01\r     |██▎                             | 102 kB 25.2 MB\/s eta 0:00:01\r     |██▌                             | 112 kB 25.2 MB\/s eta 0:00:01\r     |██▊                             | 122 kB 25.2 MB\/s eta 0:00:01\r     |███                             | 133 kB 25.2 MB\/s eta 0:00:01\r     |███▏                            | 143 kB 25.2 MB\/s eta 0:00:01\r     |███▍                            | 153 kB 25.2 MB\/s eta 0:00:01\r     |███▋                            | 163 kB 25.2 MB\/s eta 0:00:01\r     |███▉                            | 174 kB 25.2 MB\/s eta 0:00:01\r     |████                            | 184 kB 25.2 MB\/s eta 0:00:01\r     |████▎                           | 194 kB 25.2 MB\/s eta 0:00:01\r     |████▌                           | 204 kB 25.2 MB\/s eta 0:00:01\r     |████▊                           | 215 kB 25.2 MB\/s eta 0:00:01\r     |█████                           | 225 kB 25.2 MB\/s eta 0:00:01\r     |█████▏                          | 235 kB 25.2 MB\/s eta 0:00:01\r     |█████▍                          | 245 kB 25.2 MB\/s eta 0:00:01\r     |█████▋                          | 256 kB 25.2 MB\/s eta 0:00:01\r     |█████▉                          | 266 kB 25.2 MB\/s eta 0:00:01\r     |██████                          | 276 kB 25.2 MB\/s eta 0:00:01\r     |██████▎                         | 286 kB 25.2 MB\/s eta 0:00:01\r     |██████▌                         | 296 kB 25.2 MB\/s eta 0:00:01\r     |██████▊                         | 307 kB 25.2 MB\/s eta 0:00:01\r     |███████                         | 317 kB 25.2 MB\/s eta 0:00:01\r     |███████▏                        | 327 kB 25.2 MB\/s eta 0:00:01\r     |███████▍                        | 337 kB 25.2 MB\/s eta 0:00:01\r     |███████▋                        | 348 kB 25.2 MB\/s eta 0:00:01\r     |███████▉                        | 358 kB 25.2 MB\/s eta 0:00:01\r     |████████                        | 368 kB 25.2 MB\/s eta 0:00:01\r     |████████▎                       | 378 kB 25.2 MB\/s eta 0:00:01\r     |████████▌                       | 389 kB 25.2 MB\/s eta 0:00:01\r     |████████▊                       | 399 kB 25.2 MB\/s eta 0:00:01\r     |█████████                       | 409 kB 25.2 MB\/s eta 0:00:01\r     |█████████▎                      | 419 kB 25.2 MB\/s eta 0:00:01\r     |█████████▌                      | 430 kB 25.2 MB\/s eta 0:00:01\r     |█████████▊                      | 440 kB 25.2 MB\/s eta 0:00:01\r     |██████████                      | 450 kB 25.2 MB\/s eta 0:00:01\r     |██████████▏                     | 460 kB 25.2 MB\/s eta 0:00:01\r     |██████████▍                     | 471 kB 25.2 MB\/s eta 0:00:01\r     |██████████▋                     | 481 kB 25.2 MB\/s eta 0:00:01\r     |██████████▉                     | 491 kB 25.2 MB\/s eta 0:00:01\r     |███████████                     | 501 kB 25.2 MB\/s eta 0:00:01\r     |███████████▎                    | 512 kB 25.2 MB\/s eta 0:00:01\r     |███████████▌                    | 522 kB 25.2 MB\/s eta 0:00:01\r     |███████████▊                    | 532 kB 25.2 MB\/s eta 0:00:01\r     |████████████                    | 542 kB 25.2 MB\/s eta 0:00:01\r     |████████████▏                   | 552 kB 25.2 MB\/s eta 0:00:01\r     |████████████▍                   | 563 kB 25.2 MB\/s eta 0:00:01\r     |████████████▋                   | 573 kB 25.2 MB\/s eta 0:00:01\r     |████████████▉                   | 583 kB 25.2 MB\/s eta 0:00:01\r     |█████████████                   | 593 kB 25.2 MB\/s eta 0:00:01\r     |█████████████▎                  | 604 kB 25.2 MB\/s eta 0:00:01\r     |█████████████▌                  | 614 kB 25.2 MB\/s eta 0:00:01\r     |█████████████▊                  | 624 kB 25.2 MB\/s eta 0:00:01\r     |██████████████                  | 634 kB 25.2 MB\/s eta 0:00:01\r     |██████████████▏                 | 645 kB 25.2 MB\/s eta 0:00:01\r     |██████████████▍                 | 655 kB 25.2 MB\/s eta 0:00:01\r     |██████████████▋                 | 665 kB 25.2 MB\/s eta 0:00:01\r     |██████████████▉                 | 675 kB 25.2 MB\/s eta 0:00:01\r     |███████████████                 | 686 kB 25.2 MB\/s eta 0:00:01\r     |███████████████▎                | 696 kB 25.2 MB\/s eta 0:00:01\r     |███████████████▌                | 706 kB 25.2 MB\/s eta 0:00:01\r     |███████████████▊                | 716 kB 25.2 MB\/s eta 0:00:01\r     |████████████████                | 727 kB 25.2 MB\/s eta 0:00:01\r     |████████████████▏               | 737 kB 25.2 MB\/s eta 0:00:01\r     |████████████████▍               | 747 kB 25.2 MB\/s eta 0:00:01\r     |████████████████▋               | 757 kB 25.2 MB\/s eta 0:00:01\r     |████████████████▉               | 768 kB 25.2 MB\/s eta 0:00:01\r     |█████████████████               | 778 kB 25.2 MB\/s eta 0:00:01\r     |█████████████████▎              | 788 kB 25.2 MB\/s eta 0:00:01\r     |█████████████████▌              | 798 kB 25.2 MB\/s eta 0:00:01\r     |█████████████████▊              | 808 kB 25.2 MB\/s eta 0:00:01\r     |██████████████████              | 819 kB 25.2 MB\/s eta 0:00:01\r     |██████████████████▏             | 829 kB 25.2 MB\/s eta 0:00:01\r     |██████████████████▌             | 839 kB 25.2 MB\/s eta 0:00:01\r     |██████████████████▊             | 849 kB 25.2 MB\/s eta 0:00:01\r     |███████████████████             | 860 kB 25.2 MB\/s eta 0:00:01\r     |███████████████████▏            | 870 kB 25.2 MB\/s eta 0:00:01\r     |███████████████████▍            | 880 kB 25.2 MB\/s eta 0:00:01\r     |███████████████████▋            | 890 kB 25.2 MB\/s eta 0:00:01\r     |███████████████████▉            | 901 kB 25.2 MB\/s eta 0:00:01\r     |████████████████████            | 911 kB 25.2 MB\/s eta 0:00:01\r     |████████████████████▎           | 921 kB 25.2 MB\/s eta 0:00:01\r     |████████████████████▌           | 931 kB 25.2 MB\/s eta 0:00:01\r     |████████████████████▊           | 942 kB 25.2 MB\/s eta 0:00:01\r     |█████████████████████           | 952 kB 25.2 MB\/s eta 0:00:01\r     |█████████████████████▏          | 962 kB 25.2 MB\/s eta 0:00:01\r     |█████████████████████▍          | 972 kB 25.2 MB\/s eta 0:00:01\r     |█████████████████████▋          | 983 kB 25.2 MB\/s eta 0:00:01\r     |█████████████████████▉          | 993 kB 25.2 MB\/s eta 0:00:01\r     |██████████████████████          | 1.0 MB 25.2 MB\/s eta 0:00:01\r     |██████████████████████▎         | 1.0 MB 25.2 MB\/s eta 0:00:01\r     |██████████████████████▌         | 1.0 MB 25.2 MB\/s eta 0:00:01\r     |██████████████████████▊         | 1.0 MB 25.2 MB\/s eta 0:00:01\r     |███████████████████████         | 1.0 MB 25.2 MB\/s eta 0:00:01\r     |███████████████████████▏        | 1.1 MB 25.2 MB\/s eta 0:00:01\r     |███████████████████████▍        | 1.1 MB 25.2 MB\/s eta 0:00:01\r     |███████████████████████▋        | 1.1 MB 25.2 MB\/s eta 0:00:01\r     |███████████████████████▉        | 1.1 MB 25.2 MB\/s eta 0:00:01\r     |████████████████████████        | 1.1 MB 25.2 MB\/s eta 0:00:01\r     |████████████████████████▎       | 1.1 MB 25.2 MB\/s eta 0:00:01\r     |████████████████████████▌       | 1.1 MB 25.2 MB\/s eta 0:00:01\r     |████████████████████████▊       | 1.1 MB 25.2 MB\/s eta 0:00:01\r     |█████████████████████████       | 1.1 MB 25.2 MB\/s eta 0:00:01\r     |█████████████████████████▏      | 1.1 MB 25.2 MB\/s eta 0:00:01\r     |█████████████████████████▍      | 1.2 MB 25.2 MB\/s eta 0:00:01\r     |█████████████████████████▋      | 1.2 MB 25.2 MB\/s eta 0:00:01\r     |█████████████████████████▉      | 1.2 MB 25.2 MB\/s eta 0:00:01\r     |██████████████████████████      | 1.2 MB 25.2 MB\/s eta 0:00:01\r     |██████████████████████████▎     | 1.2 MB 25.2 MB\/s eta 0:00:01\r     |██████████████████████████▌     | 1.2 MB 25.2 MB\/s eta 0:00:01\r     |██████████████████████████▊     | 1.2 MB 25.2 MB\/s eta 0:00:01\r     |███████████████████████████     | 1.2 MB 25.2 MB\/s eta 0:00:01\r     |███████████████████████████▏    | 1.2 MB 25.2 MB\/s eta 0:00:01\r     |███████████████████████████▍    | 1.2 MB 25.2 MB\/s eta 0:00:01\r     |███████████████████████████▊    | 1.3 MB 25.2 MB\/s eta 0:00:01\r     |████████████████████████████    | 1.3 MB 25.2 MB\/s eta 0:00:01\r     |████████████████████████████▏   | 1.3 MB 25.2 MB\/s eta 0:00:01\r     |████████████████████████████▍   | 1.3 MB 25.2 MB\/s eta 0:00:01\r     |████████████████████████████▋   | 1.3 MB 25.2 MB\/s eta 0:00:01\r     |████████████████████████████▉   | 1.3 MB 25.2 MB\/s eta 0:00:01\r     |█████████████████████████████   | 1.3 MB 25.2 MB\/s eta 0:00:01\r     |█████████████████████████████▎  | 1.3 MB 25.2 MB\/s eta 0:00:01\r     |█████████████████████████████▌  | 1.3 MB 25.2 MB\/s eta 0:00:01\r     |█████████████████████████████▊  | 1.4 MB 25.2 MB\/s eta 0:00:01\r     |██████████████████████████████  | 1.4 MB 25.2 MB\/s eta 0:00:01\r     |██████████████████████████████▏ | 1.4 MB 25.2 MB\/s eta 0:00:01\r     |██████████████████████████████▍ | 1.4 MB 25.2 MB\/s eta 0:00:01\r     |██████████████████████████████▋ | 1.4 MB 25.2 MB\/s eta 0:00:01\r     |██████████████████████████████▉ | 1.4 MB 25.2 MB\/s eta 0:00:01\r     |███████████████████████████████ | 1.4 MB 25.2 MB\/s eta 0:00:01\r     |███████████████████████████████▎| 1.4 MB 25.2 MB\/s eta 0:00:01\r     |███████████████████████████████▌| 1.4 MB 25.2 MB\/s eta 0:00:01\r     |███████████████████████████████▊| 1.4 MB 25.2 MB\/s eta 0:00:01\r     |████████████████████████████████| 1.5 MB 25.2 MB\/s eta 0:00:01\r     |████████████████████████████████| 1.5 MB 25.2 MB\/s            \r\n",
            "\u001b[?25hRequirement already satisfied: regex>=2021.8.3 in \/opt\/python\/envs\/default\/lib\/python3.8\/site-packages (from nltk) (2021.11.10)\r\n",
            "Requirement already satisfied: click in \/opt\/python\/envs\/default\/lib\/python3.8\/site-packages (from nltk) (7.1.2)\r\n",
            "Requirement already satisfied: tqdm in \/opt\/python\/envs\/default\/lib\/python3.8\/site-packages (from nltk) (4.62.3)\r\n",
            "Requirement already satisfied: joblib in \/opt\/python\/envs\/default\/lib\/python3.8\/site-packages (from nltk) (1.1.0)\r\n",
            "Installing collected packages: nltk\r\n",
            "Successfully installed nltk-3.6.5\r\n",
            "Collecting openpyxl\r\n",
            "  Downloading openpyxl-3.0.9-py2.py3-none-any.whl (242 kB)\r\n",
            "\u001b[?25l\r\r     |█▍                              | 10 kB 19.6 MB\/s eta 0:00:01\r     |██▊                             | 20 kB 25.1 MB\/s eta 0:00:01\r     |████                            | 30 kB 27.9 MB\/s eta 0:00:01\r     |█████▍                          | 40 kB 31.0 MB\/s eta 0:00:01\r     |██████▊                         | 51 kB 28.9 MB\/s eta 0:00:01\r     |████████▏                       | 61 kB 22.4 MB\/s eta 0:00:01\r     |█████████▌                      | 71 kB 23.6 MB\/s eta 0:00:01\r     |██████████▉                     | 81 kB 25.7 MB\/s eta 0:00:01\r     |████████████▏                   | 92 kB 26.6 MB\/s eta 0:00:01\r     |█████████████▌                  | 102 kB 23.7 MB\/s eta 0:00:01\r     |██████████████▉                 | 112 kB 23.7 MB\/s eta 0:00:01\r     |████████████████▎               | 122 kB 23.7 MB\/s eta 0:00:01\r     |█████████████████▋              | 133 kB 23.7 MB\/s eta 0:00:01\r     |███████████████████             | 143 kB 23.7 MB\/s eta 0:00:01\r     |████████████████████▎           | 153 kB 23.7 MB\/s eta 0:00:01\r     |█████████████████████▋          | 163 kB 23.7 MB\/s eta 0:00:01\r     |███████████████████████         | 174 kB 23.7 MB\/s eta 0:00:01\r     |████████████████████████▍       | 184 kB 23.7 MB\/s eta 0:00:01\r     |█████████████████████████▊      | 194 kB 23.7 MB\/s eta 0:00:01\r     |███████████████████████████     | 204 kB 23.7 MB\/s eta 0:00:01\r     |████████████████████████████▍   | 215 kB 23.7 MB\/s eta 0:00:01\r     |█████████████████████████████▊  | 225 kB 23.7 MB\/s eta 0:00:01\r     |███████████████████████████████▏| 235 kB 23.7 MB\/s eta 0:00:01\r     |████████████████████████████████| 242 kB 23.7 MB\/s            \r\n",
            "\u001b[?25hCollecting et-xmlfile\r\n",
            "  Downloading et_xmlfile-1.1.0-py3-none-any.whl (4.7 kB)\r\n",
            "Installing collected packages: et-xmlfile, openpyxl\r\n",
            "Successfully installed et-xmlfile-1.1.0 openpyxl-3.0.9\r\n"
          ],
          "output_type":"stream"
        }
      ],
      "metadata":{
        "datalore":{
          "sheet_delimiter":false
        }
      }
    },
    {
      "cell_type":"markdown",
      "source":[
        "### IMPORTS"
      ],
      "attachments":{
        
      },
      "metadata":{
        "datalore":{
          "sheet_delimiter":false
        }
      }
    },
    {
      "cell_type":"code",
      "source":[
        "# basic imports\n",
        "\n",
        "import numpy as np\n",
        "import pandas as pd\n",
        "import os\n",
        "from timeit import timeit"
      ],
      "execution_count":2,
      "outputs":[
        
      ],
      "metadata":{
        "datalore":{
          "sheet_delimiter":false
        }
      }
    },
    {
      "cell_type":"code",
      "source":[
        "# imports used in some features\n",
        "\n",
        "from pyphen import Pyphen\n",
        "from dale_chall import DALE_CHALL"
      ],
      "execution_count":3,
      "outputs":[
        
      ],
      "metadata":{
        "datalore":{
          "sheet_delimiter":false
        }
      }
    },
    {
      "cell_type":"code",
      "source":[
        "# nltk downloads\n",
        "\n",
        "import nltk\n",
        "nltk.download('punkt')\n",
        "nltk.download('wordnet')"
      ],
      "execution_count":4,
      "outputs":[
        {
          "name":"stderr",
          "text":[
            "[nltk_data] Downloading package punkt to \/home\/datalore\/nltk_data...\n",
            "[nltk_data]   Unzipping tokenizers\/punkt.zip.\n",
            "[nltk_data] Downloading package wordnet to \/home\/datalore\/nltk_data...\n",
            "[nltk_data]   Unzipping corpora\/wordnet.zip.\n"
          ],
          "output_type":"stream"
        },
        {
          "data":{
            "text\/plain":[
              "True"
            ]
          },
          "metadata":{
            
          },
          "output_type":"display_data"
        }
      ],
      "metadata":{
        "datalore":{
          "sheet_delimiter":false
        }
      }
    },
    {
      "cell_type":"code",
      "source":[
        "# nltk imports\n",
        "\n",
        "from nltk.corpus import wordnet as wn\n",
        "from nltk.tokenize import word_tokenize"
      ],
      "execution_count":5,
      "outputs":[
        
      ],
      "metadata":{
        "datalore":{
          "sheet_delimiter":false
        }
      }
    },
    {
      "cell_type":"code",
      "source":[
        "# scikit-learn imports\n",
        "\n",
        "# svm\n",
        "from sklearn.svm import SVC\n",
        "\n",
        "# metrics\n",
        "from sklearn.metrics import balanced_accuracy_score\n",
        "from sklearn.metrics import confusion_matrix\n",
        "from sklearn.metrics import ConfusionMatrixDisplay\n",
        "\n",
        "# utils\n",
        "from sklearn.utils import shuffle\n",
        "\n",
        "# model_selection\n",
        "from sklearn.model_selection import train_test_split\n",
        "from sklearn.model_selection import cross_val_score\n",
        "from sklearn.model_selection import cross_val_predict\n",
        "from sklearn.model_selection import StratifiedKFold\n",
        "from sklearn.model_selection import KFold\n",
        "from sklearn.model_selection import GridSearchCV"
      ],
      "execution_count":6,
      "outputs":[
        
      ],
      "metadata":{
        "datalore":{
          "sheet_delimiter":false
        }
      }
    },
    {
      "cell_type":"markdown",
      "source":[
        "### READING DATA FROM FILES"
      ],
      "attachments":{
        
      },
      "metadata":{
        "datalore":{
          "sheet_delimiter":false
        }
      }
    },
    {
      "cell_type":"code",
      "source":[
        "path = '\/data\/notebook_files\/project_data\/'\n",
        "\n",
        "dtypes = {'corpus': 'string', 'sentence': 'string', 'token': 'string', 'complex': 'float64'}\n",
        "train_data = pd.read_excel(os.path.join(path, 'train.xlsx'), dtype=dtypes, keep_default_na=False)\n",
        "test_data = pd.read_excel(os.path.join(path, 'test.xlsx'), dtype=dtypes, keep_default_na=False)\n",
        "\n",
        "# train_data must be shuffled\n",
        "for _ in range(10):\n",
        "    train_data = shuffle(train_data).reset_index(drop=True)"
      ],
      "execution_count":7,
      "outputs":[
        
      ],
      "metadata":{
        "datalore":{
          "sheet_delimiter":false
        }
      }
    },
    {
      "cell_type":"code",
      "source":[
        "# wordForms\n",
        "word_forms = pd.read_excel('\/data\/notebook_files\/wordForms.xlsx')\n",
        "word_forms = np.array(word_forms)"
      ],
      "execution_count":8,
      "outputs":[
        
      ],
      "metadata":{
        "datalore":{
          "sheet_delimiter":false
        }
      }
    },
    {
      "cell_type":"markdown",
      "source":[
        "### DATA STATS"
      ],
      "attachments":{
        
      },
      "metadata":{
        "datalore":{
          "sheet_delimiter":false
        }
      }
    },
    {
      "cell_type":"code",
      "source":[
        "print('Train data: ', train_data.shape)\n",
        "print('Test data: ', test_data.shape)"
      ],
      "execution_count":9,
      "outputs":[
        {
          "name":"stdout",
          "text":[
            "Train data:  (7662, 4)\n",
            "Test data:  (1338, 3)\n"
          ],
          "output_type":"stream"
        }
      ],
      "metadata":{
        "datalore":{
          "sheet_delimiter":false
        }
      }
    },
    {
      "cell_type":"code",
      "source":[
        "train_data.head()"
      ],
      "execution_count":10,
      "outputs":[
        {
          "data":{
            "text\/html":[
              "<div>\n",
              "<style scoped>\n",
              "    .dataframe tbody tr th:only-of-type {\n",
              "        vertical-align: middle;\n",
              "    }\n",
              "\n",
              "    .dataframe tbody tr th {\n",
              "        vertical-align: top;\n",
              "    }\n",
              "\n",
              "    .dataframe thead th {\n",
              "        text-align: right;\n",
              "    }\n",
              "<\/style>\n",
              "<table border=\"1\" class=\"dataframe\">\n",
              "  <thead>\n",
              "    <tr style=\"text-align: right;\">\n",
              "      <th><\/th>\n",
              "      <th>corpus<\/th>\n",
              "      <th>sentence<\/th>\n",
              "      <th>token<\/th>\n",
              "      <th>complex<\/th>\n",
              "    <\/tr>\n",
              "  <\/thead>\n",
              "  <tbody>\n",
              "    <tr>\n",
              "      <th>0<\/th>\n",
              "      <td>biomed<\/td>\n",
              "      <td>The pattern of blood flow cessation for the tw...<\/td>\n",
              "      <td>cessation<\/td>\n",
              "      <td>1.0<\/td>\n",
              "    <\/tr>\n",
              "    <tr>\n",
              "      <th>1<\/th>\n",
              "      <td>biomed<\/td>\n",
              "      <td>Our data suggest that the efficiency of micro-...<\/td>\n",
              "      <td>formation<\/td>\n",
              "      <td>0.0<\/td>\n",
              "    <\/tr>\n",
              "    <tr>\n",
              "      <th>2<\/th>\n",
              "      <td>bible<\/td>\n",
              "      <td>Cush became the father of Nimrod; he began to ...<\/td>\n",
              "      <td>Cush<\/td>\n",
              "      <td>0.0<\/td>\n",
              "    <\/tr>\n",
              "    <tr>\n",
              "      <th>3<\/th>\n",
              "      <td>biomed<\/td>\n",
              "      <td>Since virtually all M-opsin–expressing cells a...<\/td>\n",
              "      <td>location<\/td>\n",
              "      <td>0.0<\/td>\n",
              "    <\/tr>\n",
              "    <tr>\n",
              "      <th>4<\/th>\n",
              "      <td>bible<\/td>\n",
              "      <td>and my wrath will grow hot, and I will kill yo...<\/td>\n",
              "      <td>widows<\/td>\n",
              "      <td>0.0<\/td>\n",
              "    <\/tr>\n",
              "  <\/tbody>\n",
              "<\/table>\n",
              "<\/div>"
            ]
          },
          "metadata":{
            
          },
          "output_type":"display_data"
        }
      ],
      "metadata":{
        "datalore":{
          "sheet_delimiter":false
        }
      }
    },
    {
      "cell_type":"code",
      "source":[
        "test_data.head()"
      ],
      "execution_count":11,
      "outputs":[
        {
          "data":{
            "text\/html":[
              "<div>\n",
              "<style scoped>\n",
              "    .dataframe tbody tr th:only-of-type {\n",
              "        vertical-align: middle;\n",
              "    }\n",
              "\n",
              "    .dataframe tbody tr th {\n",
              "        vertical-align: top;\n",
              "    }\n",
              "\n",
              "    .dataframe thead th {\n",
              "        text-align: right;\n",
              "    }\n",
              "<\/style>\n",
              "<table border=\"1\" class=\"dataframe\">\n",
              "  <thead>\n",
              "    <tr style=\"text-align: right;\">\n",
              "      <th><\/th>\n",
              "      <th>corpus<\/th>\n",
              "      <th>sentence<\/th>\n",
              "      <th>token<\/th>\n",
              "    <\/tr>\n",
              "  <\/thead>\n",
              "  <tbody>\n",
              "    <tr>\n",
              "      <th>0<\/th>\n",
              "      <td>europarl<\/td>\n",
              "      <td>Non-proliferation Treaty (vote)<\/td>\n",
              "      <td>Treaty<\/td>\n",
              "    <\/tr>\n",
              "    <tr>\n",
              "      <th>1<\/th>\n",
              "      <td>europarl<\/td>\n",
              "      <td>(SV) Mr President, if you went into the corrid...<\/td>\n",
              "      <td>stickers<\/td>\n",
              "    <\/tr>\n",
              "    <tr>\n",
              "      <th>2<\/th>\n",
              "      <td>biomed<\/td>\n",
              "      <td>AK and NL performed bile collection experiment...<\/td>\n",
              "      <td>AK<\/td>\n",
              "    <\/tr>\n",
              "    <tr>\n",
              "      <th>3<\/th>\n",
              "      <td>biomed<\/td>\n",
              "      <td>However, the lack of association of transcript...<\/td>\n",
              "      <td>smoking<\/td>\n",
              "    <\/tr>\n",
              "    <tr>\n",
              "      <th>4<\/th>\n",
              "      <td>biomed<\/td>\n",
              "      <td>ADAM11-deficient mice survived more than one y...<\/td>\n",
              "      <td>tremor<\/td>\n",
              "    <\/tr>\n",
              "  <\/tbody>\n",
              "<\/table>\n",
              "<\/div>"
            ]
          },
          "metadata":{
            
          },
          "output_type":"display_data"
        }
      ],
      "metadata":{
        "datalore":{
          "sheet_delimiter":false
        }
      }
    },
    {
      "cell_type":"markdown",
      "source":[
        "### FEATURE GENERATING FUNCTIONS WHOSE RESULTS CAN BE ADDED TO THE VECTOR"
      ],
      "attachments":{
        
      },
      "metadata":{
        "datalore":{
          "sheet_delimiter":false
        }
      }
    },
    {
      "cell_type":"code",
      "source":[
        "def corpus_feature(corpus):\n",
        "    if corpus == 'bible':\n",
        "        return [0]\n",
        "    elif corpus == 'biomed':\n",
        "        return [1]\n",
        "    else:\n",
        "        return [2]"
      ],
      "execution_count":12,
      "outputs":[
        
      ],
      "metadata":{
        "datalore":{
          "sheet_delimiter":false
        }
      }
    },
    {
      "cell_type":"code",
      "source":[
        "def word_length(word):\n",
        "    return len(word)"
      ],
      "execution_count":13,
      "outputs":[
        
      ],
      "metadata":{
        "datalore":{
          "sheet_delimiter":false
        }
      }
    },
    {
      "cell_type":"code",
      "source":[
        "def number_of_vowels(word):\n",
        "    count = 0\n",
        "    word = word.upper()\n",
        "    vowels = 'AEIOU'\n",
        "\n",
        "    for char in word:\n",
        "        if char in vowels:\n",
        "            count += 1\n",
        "    \n",
        "    return count"
      ],
      "execution_count":14,
      "outputs":[
        
      ],
      "metadata":{
        "datalore":{
          "sheet_delimiter":false
        }
      }
    },
    {
      "cell_type":"code",
      "source":[
        "def is_consonant(char):\n",
        "    char = char.upper()\n",
        "    vowels = 'AEIOU'\n",
        "\n",
        "    return not char in vowels and 65 <= ord(char) <= 90\n",
        "\n",
        "def number_of_consonants(word):\n",
        "    count = 0\n",
        "\n",
        "    for char in word:\n",
        "        if is_consonant(char):\n",
        "            count += 1\n",
        "    \n",
        "    return count"
      ],
      "execution_count":15,
      "outputs":[
        
      ],
      "metadata":{
        "datalore":{
          "sheet_delimiter":false
        }
      }
    },
    {
      "cell_type":"code",
      "source":[
        "def number_of_special_chars(word):\n",
        "    count = 0\n",
        "\n",
        "    for char in word:\n",
        "        if char.isalpha() or char.isdigit():\n",
        "            continue\n",
        "        else:\n",
        "            count += 1\n",
        "    \n",
        "    return count"
      ],
      "execution_count":16,
      "outputs":[
        
      ],
      "metadata":{
        "datalore":{
          "sheet_delimiter":false
        }
      }
    },
    {
      "cell_type":"code",
      "source":[
        "def number_of_syllables(word):\n",
        "    lang = Pyphen(lang='en')\n",
        "    return len(lang.inserted(word, '-').split('-'))"
      ],
      "execution_count":17,
      "outputs":[
        
      ],
      "metadata":{
        "datalore":{
          "sheet_delimiter":false
        }
      }
    },
    {
      "cell_type":"code",
      "source":[
        "def is_title(word):\n",
        "    return int(word.istitle())"
      ],
      "execution_count":18,
      "outputs":[
        
      ],
      "metadata":{
        "datalore":{
          "sheet_delimiter":false
        }
      }
    },
    {
      "cell_type":"code",
      "source":[
        "def is_dale_chall(word):\n",
        "    return int(word.lower() in DALE_CHALL)"
      ],
      "execution_count":19,
      "outputs":[
        
      ],
      "metadata":{
        "datalore":{
          "sheet_delimiter":false
        }
      }
    },
    {
      "cell_type":"code",
      "source":[
        "def is_word_forms(word):\n",
        "    return int(word.lower() in word_forms)"
      ],
      "execution_count":20,
      "outputs":[
        
      ],
      "metadata":{
        "datalore":{
          "sheet_delimiter":false
        }
      }
    },
    {
      "cell_type":"code",
      "source":[
        "def get_all_tokens(_df):\n",
        "    words = []\n",
        "\n",
        "    for _, item in _df.iterrows():\n",
        "        tokens = word_tokenize(item['sentence'])\n",
        "\n",
        "        for token in tokens:\n",
        "            words.append(token)\n",
        "    \n",
        "    return words"
      ],
      "execution_count":21,
      "outputs":[
        
      ],
      "metadata":{
        "datalore":{
          "sheet_delimiter":false
        }
      }
    },
    {
      "cell_type":"code",
      "source":[
        "def get_word_frequency(word, words):\n",
        "    return words.count(word) \/ len(words) * 100"
      ],
      "execution_count":22,
      "outputs":[
        
      ],
      "metadata":{
        "datalore":{
          "sheet_delimiter":false
        }
      }
    },
    {
      "cell_type":"code",
      "source":[
        "def synsets(word):\n",
        "    return len(wn.synsets(word))"
      ],
      "execution_count":23,
      "outputs":[
        
      ],
      "metadata":{
        "datalore":{
          "sheet_delimiter":false
        }
      }
    },
    {
      "cell_type":"markdown",
      "source":[
        "### FEATURIZE FUNCTIONS"
      ],
      "attachments":{
        
      },
      "metadata":{
        "datalore":{
          "sheet_delimiter":false
        }
      }
    },
    {
      "cell_type":"code",
      "source":[
        "all_words = get_all_tokens(train_data) + get_all_tokens(test_data)\n",
        "\n",
        "def get_word_structure_features(word):\n",
        "    features = [\n",
        "        word_length(word), \n",
        "        number_of_vowels(word), \n",
        "        number_of_consonants(word),\n",
        "        # number_of_special_chars(word), \n",
        "        number_of_syllables(word),\n",
        "        is_title(word),\n",
        "        is_dale_chall(word),\n",
        "        is_word_forms(word),\n",
        "        get_word_frequency(word, all_words)\n",
        "    ]\n",
        "\n",
        "    return np.array(features)"
      ],
      "execution_count":24,
      "outputs":[
        
      ],
      "metadata":{
        "datalore":{
          "sheet_delimiter":false
        }
      }
    },
    {
      "cell_type":"code",
      "source":[
        "def get_wordnet_features(word):\n",
        "    features = [\n",
        "        synsets(word),\n",
        "    ]\n",
        "\n",
        "    return np.array(features)"
      ],
      "execution_count":25,
      "outputs":[
        
      ],
      "metadata":{
        "datalore":{
          "sheet_delimiter":false
        }
      }
    },
    {
      "cell_type":"code",
      "source":[
        "def featurize_row(row):\n",
        "    word = row['token']\n",
        "\n",
        "    all_features = []\n",
        "    all_features.extend(corpus_feature(row['corpus']))\n",
        "    all_features.extend(get_word_structure_features(word))\n",
        "    all_features.extend(get_wordnet_features(word))\n",
        "\n",
        "    return np.array(all_features)"
      ],
      "execution_count":26,
      "outputs":[
        
      ],
      "metadata":{
        "datalore":{
          "sheet_delimiter":false
        }
      }
    },
    {
      "cell_type":"code",
      "source":[
        "def featurize_df(_df):\n",
        "    number_of_features = len(featurize_row(_df.iloc[0]))\n",
        "    number_of_examples = len(_df)\n",
        "    features = np.zeros((number_of_examples, number_of_features))\n",
        "\n",
        "    for index, row in _df.iterrows():\n",
        "        row_features = featurize_row(row)\n",
        "        features[index, :] = row_features\n",
        "\n",
        "    return features"
      ],
      "execution_count":27,
      "outputs":[
        
      ],
      "metadata":{
        "datalore":{
          "sheet_delimiter":false
        }
      }
    },
    {
      "cell_type":"markdown",
      "source":[
        "### FEATURE train_data & EXTRACT TARGET FROM train_data"
      ],
      "attachments":{
        
      },
      "metadata":{
        "datalore":{
          "sheet_delimiter":false
        }
      }
    },
    {
      "cell_type":"code",
      "source":[
        "X = featurize_df(train_data)\n",
        "y = train_data['complex'].values"
      ],
      "execution_count":28,
      "outputs":[
        
      ],
      "metadata":{
        "datalore":{
          "sheet_delimiter":false
        }
      }
    },
    {
      "cell_type":"markdown",
      "source":[
        "### STATS ABOUT THE FEATURED train_data"
      ],
      "attachments":{
        
      },
      "metadata":{
        "datalore":{
          "sheet_delimiter":false
        }
      }
    },
    {
      "cell_type":"code",
      "source":[
        "print(X.shape)\n",
        "print(y.shape)"
      ],
      "execution_count":29,
      "outputs":[
        {
          "name":"stdout",
          "text":[
            "(7662, 10)\n",
            "(7662,)\n"
          ],
          "output_type":"stream"
        }
      ],
      "metadata":{
        "datalore":{
          "sheet_delimiter":false
        }
      }
    },
    {
      "cell_type":"markdown",
      "source":[
        "## SVM CLASSIFIER"
      ],
      "attachments":{
        
      },
      "metadata":{
        "datalore":{
          "sheet_delimiter":false
        }
      }
    },
    {
      "cell_type":"markdown",
      "source":[
        "### TRAIN-TEST SPLITTING FOR EVALUATING PERFORMANCE"
      ],
      "attachments":{
        
      },
      "metadata":{
        "datalore":{
          "sheet_delimiter":false
        }
      }
    },
    {
      "cell_type":"code",
      "source":[
        "X_train, X_test, y_train, y_test = train_test_split(X, y, test_size=0.2)"
      ],
      "execution_count":30,
      "outputs":[
        
      ],
      "metadata":{
        "datalore":{
          "sheet_delimiter":false
        }
      }
    },
    {
      "cell_type":"code",
      "source":[
        "# training on X_train | y_train \n",
        "svc_model = SVC(C=4, gamma='auto', class_weight='balanced', kernel='rbf')\n",
        "svc_model.fit(X_train, y_train)"
      ],
      "execution_count":31,
      "outputs":[
        {
          "data":{
            "text\/plain":[
              "SVC(C=4, class_weight='balanced', gamma='auto')"
            ]
          },
          "metadata":{
            
          },
          "output_type":"display_data"
        }
      ],
      "metadata":{
        "datalore":{
          "sheet_delimiter":false
        }
      }
    },
    {
      "cell_type":"markdown",
      "source":[
        "### EVALUATING THE PERFORMANCE"
      ],
      "attachments":{
        
      },
      "metadata":{
        "datalore":{
          "sheet_delimiter":false
        }
      }
    },
    {
      "cell_type":"code",
      "source":[
        "test_predicitions = svc_model.predict(X_test)"
      ],
      "execution_count":32,
      "outputs":[
        
      ],
      "metadata":{
        "datalore":{
          "sheet_delimiter":false
        }
      }
    },
    {
      "cell_type":"code",
      "source":[
        "print(svc_model.score(X_test, y_test))"
      ],
      "execution_count":33,
      "outputs":[
        {
          "name":"stdout",
          "text":[
            "0.7534246575342466\n"
          ],
          "output_type":"stream"
        }
      ],
      "metadata":{
        "datalore":{
          "sheet_delimiter":false
        }
      }
    },
    {
      "cell_type":"code",
      "source":[
        "test_balanced_accuracy_score = balanced_accuracy_score(y_test, test_predicitions)\n",
        "print(test_balanced_accuracy_score)"
      ],
      "execution_count":34,
      "outputs":[
        {
          "name":"stdout",
          "text":[
            "0.812921751615219\n"
          ],
          "output_type":"stream"
        }
      ],
      "metadata":{
        "datalore":{
          "sheet_delimiter":false
        }
      }
    },
    {
      "cell_type":"code",
      "source":[
        "test_confusion_matrix = confusion_matrix(y_test, test_predicitions)\n",
        "print(test_confusion_matrix)"
      ],
      "execution_count":35,
      "outputs":[
        {
          "name":"stdout",
          "text":[
            "[[1031  362]\n",
            " [  16  124]]\n"
          ],
          "output_type":"stream"
        }
      ],
      "metadata":{
        "datalore":{
          "sheet_delimiter":false
        }
      }
    },
    {
      "cell_type":"code",
      "source":[
        "print(test_predicitions.sum())"
      ],
      "execution_count":36,
      "outputs":[
        {
          "name":"stdout",
          "text":[
            "486.0\n"
          ],
          "output_type":"stream"
        }
      ],
      "metadata":{
        "datalore":{
          "sheet_delimiter":false
        }
      }
    },
    {
      "cell_type":"markdown",
      "source":[
        "### FINAL PREDICTIONS"
      ],
      "attachments":{
        
      },
      "metadata":{
        "datalore":{
          "sheet_delimiter":false
        }
      }
    },
    {
      "cell_type":"code",
      "source":[
        "X_test = featurize_df(test_data)\n",
        "\n",
        "svc_model = SVC(C=4, gamma='auto', class_weight='balanced', kernel='rbf')\n",
        "svc_model.fit(X, y)\n",
        "predictions = svc_model.predict(X_test)\n",
        "test_id = np.arange(7663, 9001)\n",
        "\n",
        "df = pd.DataFrame()\n",
        "df['id'] = test_id\n",
        "df['complex'] = predictions\n",
        "\n",
        "results_path = '\/data\/notebook_files\/results\/'\n",
        "df.to_csv(os.path.join(results_path, 'submission-svm.csv'), index=False)"
      ],
      "execution_count":37,
      "outputs":[
        
      ],
      "metadata":{
        "datalore":{
          "sheet_delimiter":false
        }
      }
    },
    {
      "cell_type":"code",
      "source":[
        "print(predictions.sum())"
      ],
      "execution_count":38,
      "outputs":[
        {
          "name":"stdout",
          "text":[
            "427.0\n"
          ],
          "output_type":"stream"
        }
      ],
      "metadata":{
        "datalore":{
          "sheet_delimiter":false
        }
      }
    },
    {
      "cell_type":"markdown",
      "source":[
        "### 10-FOLDS CROSS VALIDATION"
      ],
      "attachments":{
        
      },
      "metadata":{
        "datalore":{
          "sheet_delimiter":false
        }
      }
    },
    {
      "cell_type":"code",
      "source":[
        "# 10-folds cross validation\n",
        "\n",
        "cross_validation = KFold(n_splits=10, random_state=1, shuffle=True)\n",
        "svc_model = SVC(C=4, gamma='auto', class_weight='balanced', kernel='rbf')\n",
        "print(cross_val_score(svc_model, X, y, cv=cross_validation, scoring='balanced_accuracy', n_jobs=-1).mean())"
      ],
      "execution_count":39,
      "outputs":[
        {
          "name":"stdout",
          "text":[
            "0.8120430050393163\n"
          ],
          "output_type":"stream"
        }
      ],
      "metadata":{
        "datalore":{
          "sheet_delimiter":false
        }
      }
    },
    {
      "cell_type":"markdown",
      "source":[
        "### CONFUSION MATRIX"
      ],
      "attachments":{
        
      },
      "metadata":{
        "datalore":{
          "sheet_delimiter":false
        }
      }
    },
    {
      "cell_type":"code",
      "source":[
        "# confusion matrix\n",
        "\n",
        "svc_model = SVC(C=4, gamma='auto', class_weight='balanced', kernel='rbf')\n",
        "cross_validation = KFold(n_splits=10, random_state=1, shuffle=True)\n",
        "\n",
        "predictions = cross_val_predict(estimator=svc_model, X=X, y=y, cv=cross_validation)\n",
        "\n",
        "final_confusion_matrix = confusion_matrix(y_true=y, y_pred=predictions)\n",
        "confusion_matrix_display = ConfusionMatrixDisplay(final_confusion_matrix, display_labels=[0, 1])\n",
        "confusion_matrix_display.plot()"
      ],
      "execution_count":40,
      "outputs":[
        {
          "data":{
            "text\/plain":[
              "<sklearn.metrics._plot.confusion_matrix.ConfusionMatrixDisplay at 0x7fe8559e7ee0>"
            ],
            "image\/png":"[encoded data removed]"
          },
          "metadata":{
            "image\/png":{
              
            }
          },
          "output_type":"display_data"
        }
      ],
      "metadata":{
        "datalore":{
          "sheet_delimiter":false
        }
      }
    },
    {
      "cell_type":"markdown",
      "source":[
        "### TRAINING TIME"
      ],
      "attachments":{
        
      },
      "metadata":{
        "datalore":{
          "sheet_delimiter":false
        }
      }
    },
    {
      "cell_type":"code",
      "source":[
        "# training time\n",
        "\n",
        "svc_model = SVC(C=4, gamma='auto', class_weight='balanced', kernel='rbf')\n",
        "print('Training time: %fs.' % (timeit(lambda: svc_model.fit(X, y), number=100) \/ 100))"
      ],
      "execution_count":49,
      "outputs":[
        {
          "name":"stdout",
          "text":[
            "Training time: 1.621495s.\n"
          ],
          "output_type":"stream"
        }
      ],
      "metadata":{
        "datalore":{
          "sheet_delimiter":false
        }
      }
    },
    {
      "cell_type":"markdown",
      "source":[
        "### TUNING THE HYPERPARAMETERS OF SVC() ESTIMATOR"
      ],
      "attachments":{
        
      },
      "metadata":{
        "datalore":{
          "sheet_delimiter":false
        }
      }
    },
    {
      "cell_type":"code",
      "source":[
        "param_grid = {'C' : [1, 2, 3, 4]}\n",
        "svc_model = SVC(gamma='auto', kernel='rbf', class_weight='balanced')\n",
        "cross_validation = StratifiedKFold(n_splits=10, random_state=1, shuffle=True)\n",
        "grid_search = GridSearchCV(estimator=svc_model, param_grid=param_grid, n_jobs=-1, cv=cross_validation, scoring='balanced_accuracy')\n",
        "\n",
        "grid_search_results = grid_search.fit(X, y)\n",
        "print('Best: %f using %s' % (grid_search_results.best_score_, grid_search_results.best_params_))"
      ],
      "execution_count":42,
      "outputs":[
        {
          "name":"stdout",
          "text":[
            "Best: 0.816733 using {'C': 4}\n"
          ],
          "output_type":"stream"
        }
      ],
      "metadata":{
        "datalore":{
          "sheet_delimiter":false
        }
      }
    }
  ],
  "metadata":{
    
  },
  "nbformat":4,
  "nbformat_minor":0
}